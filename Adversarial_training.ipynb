{
  "nbformat": 4,
  "nbformat_minor": 0,
  "metadata": {
    "colab": {
      "name": "Assignment10.ipynb",
      "provenance": [],
      "collapsed_sections": []
    },
    "kernelspec": {
      "name": "python3",
      "display_name": "Python 3"
    },
    "language_info": {
      "name": "python"
    },
    "accelerator": "GPU"
  },
  "cells": [
    {
      "cell_type": "code",
      "execution_count": null,
      "metadata": {
        "id": "mf9tNEECBwpz"
      },
      "outputs": [],
      "source": [
        "import tensorflow as tf\n",
        "import numpy as np\n",
        "from matplotlib import pyplot as plt"
      ]
    },
    {
      "cell_type": "code",
      "source": [
        "(train_imgs, train_lbls), (test_imgs, test_lbls) = tf.keras.datasets.cifar10.load_data()\n",
        "train_imgs = train_imgs.reshape((-1, 32, 32, 3)).astype(np.float32) / 255.\n",
        "test_imgs = test_imgs.reshape((-1, 32, 32, 3)).astype(np.float32) / 255.\n",
        "train_lbls = train_lbls.astype(np.int32)[:,0]\n",
        "test_lbls = test_lbls.astype(np.int32)[:,0]\n",
        "\n",
        "train_data = tf.data.Dataset.from_tensor_slices((train_imgs, train_lbls))\n",
        "train_data = train_data.shuffle(60000).batch(256).repeat()\n",
        "\n",
        "test_data = tf.data.Dataset.from_tensor_slices((test_imgs, test_lbls)).batch(256)"
      ],
      "metadata": {
        "id": "m-1_jfiOCYWe",
        "outputId": "a3c10a07-be6c-489d-af5a-4864d4c0ec4e",
        "colab": {
          "base_uri": "https://localhost:8080/"
        }
      },
      "execution_count": null,
      "outputs": [
        {
          "output_type": "stream",
          "name": "stdout",
          "text": [
            "Downloading data from https://www.cs.toronto.edu/~kriz/cifar-10-python.tar.gz\n",
            "170500096/170498071 [==============================] - 2s 0us/step\n",
            "170508288/170498071 [==============================] - 2s 0us/step\n"
          ]
        }
      ]
    },
    {
      "cell_type": "code",
      "source": [
        "# build model\n",
        "tfkl = tf.keras.layers\n",
        "\n",
        "\n",
        "regularization_factor = 0.00001\n",
        "\n",
        "\n",
        "def conv_bn_relu(inp, n_filters):\n",
        "    # use regularizers for weight penalties etc\n",
        "    # note that the factor needs to be passed here already\n",
        "    conv = tfkl.Conv2D(n_filters, 3, padding=\"same\", use_bias=False, kernel_regularizer=tf.keras.regularizers.L2(regularization_factor))(inp)\n",
        "    # batchnorm is as simple as this.\n",
        "    # note: convolution has set use_bias=False since it's superfluous if followed\n",
        "    # by batchnorm directly\n",
        "    bn = tfkl.BatchNormalization()(conv)\n",
        "    # spatial dropout is probably a better choice for conv2d\n",
        "    # NOTE dropout & batch norm don't harmonize well, so probably better to\n",
        "    # choose one of the two\n",
        "    return tfkl.SpatialDropout2D(0.2)(tfkl.ReLU()(bn))\n",
        "\n",
        "def build_model():\n",
        "    inp = tf.keras.Input((32, 32, 3))\n",
        "\n",
        "    # best way to do data augmentation: use keras layers\n",
        "    flipped = tfkl.RandomFlip(mode=\"horizontal\")(inp)\n",
        "    cropped = tfkl.RandomCrop(30, 30)(flipped)\n",
        "\n",
        "    l1 = conv_bn_relu(cropped, 32)\n",
        "    #l1b = conv_bn_relu(l1, 32)\n",
        "    l1_p = tfkl.MaxPool2D(2, padding=\"same\")(l1)\n",
        "\n",
        "    l2 = conv_bn_relu(l1_p, 64)\n",
        "    #l2b = conv_bn_relu(l2, 64)\n",
        "    l2_p = tfkl.MaxPool2D(2, padding=\"same\")(l2)\n",
        "\n",
        "    l3 = conv_bn_relu(l2_p, 128)\n",
        "    #l3b = conv_bn_relu(l3, 128)\n",
        "    l3_p = tfkl.MaxPool2D(2, padding=\"same\")(l3)\n",
        "\n",
        "    flat = tfkl.Flatten()(l3_p)\n",
        "    logits = tfkl.Dense(10, kernel_regularizer=tf.keras.regularizers.L2(regularization_factor))(flat)\n",
        "\n",
        "    model = tf.keras.Model(inp, logits)\n",
        "    return model\n",
        "\n",
        "\n",
        "model = build_model()\n",
        "train_steps = 10000\n",
        "\n",
        "# example learning rate schedule\n",
        "schedule = tf.keras.optimizers.schedules.ExponentialDecay( 0.001, 1, 0.9997)   #(initial_learning_rate, decay_steps, decay_rate)\n",
        "optimizer = tf.optimizers.Adam(schedule)\n",
        "\n",
        "loss_fn = tf.losses.SparseCategoricalCrossentropy(from_logits=True)\n"
      ],
      "metadata": {
        "id": "GRrcWwlNCevs"
      },
      "execution_count": null,
      "outputs": []
    },
    {
      "cell_type": "code",
      "source": [
        "x = tf.range(train_steps)\n",
        "y = schedule(x)\n",
        "plt.plot(x, y)"
      ],
      "metadata": {
        "id": "HC4azUCHV1VT",
        "colab": {
          "base_uri": "https://localhost:8080/",
          "height": 283
        },
        "outputId": "7bbb7470-23ea-4f86-c500-28c73632f1fe"
      },
      "execution_count": null,
      "outputs": [
        {
          "output_type": "execute_result",
          "data": {
            "text/plain": [
              "[<matplotlib.lines.Line2D at 0x7f52b4af8790>]"
            ]
          },
          "metadata": {},
          "execution_count": 4
        },
        {
          "output_type": "display_data",
          "data": {
            "image/png": "[encoded data removed]",
            "text/plain": [
              "<Figure size 432x288 with 1 Axes>"
            ]
          },
          "metadata": {
            "needs_background": "light"
          }
        }
      ]
    },
    {
      "cell_type": "code",
      "source": [
        "@tf.function\n",
        "def train_step(images, labels):\n",
        "    with tf.GradientTape() as tape:\n",
        "        # very important to have training=True!!!\n",
        "        # in this model, this is relevant for dropout, batchnorm, augmentation\n",
        "        out = model(images, training=True)\n",
        "        cross_entropy = loss_fn(labels, out)\n",
        "\n",
        "        # we actually need to add the regularization here!\n",
        "        # using model.fit, this would be taken care off\n",
        "        l2_penalty = tf.add_n(model.losses) #add all the input tensors elementwise\n",
        "        loss = cross_entropy + l2_penalty\n",
        "\n",
        "    gradients = tape.gradient(loss, model.trainable_variables)\n",
        "    optimizer.apply_gradients(zip(gradients, model.trainable_variables))\n",
        "\n",
        "    return cross_entropy\n",
        "\n",
        "\n",
        "def get_test_accuracy():\n",
        "    accuracy_metric = tf.keras.metrics.SparseCategoricalAccuracy()\n",
        "    for images, labels in test_data:\n",
        "        # not training -> set to False. this is also the default if you don't pass it\n",
        "        accuracy_metric(labels, model(images, training=False))\n",
        "\n",
        "    return accuracy_metric.result().numpy()"
      ],
      "metadata": {
        "id": "MAyT4TMsDcfp"
      },
      "execution_count": null,
      "outputs": []
    },
    {
      "cell_type": "code",
      "source": [
        "for step, (image_batch, label_batch) in enumerate(train_data):\n",
        "    if step > train_steps:\n",
        "        break\n",
        "\n",
        "    current_loss = train_step(image_batch, label_batch)\n",
        "\n",
        "    if not step % 500:\n",
        "        print(step, current_loss.numpy())\n",
        "        test_accuracy = get_test_accuracy()\n",
        "        print(\"Test acc\", test_accuracy)\n",
        "        print()\n"
      ],
      "metadata": {
        "id": "3H079wbND7eV",
        "colab": {
          "base_uri": "https://localhost:8080/"
        },
        "outputId": "d6e40817-9df9-4179-b1c1-c5dee66906b3"
      },
      "execution_count": null,
      "outputs": [
        {
          "output_type": "stream",
          "name": "stdout",
          "text": [
            "0 3.4294872\n",
            "Test acc 0.1001\n",
            "\n",
            "500 1.2613888\n",
            "Test acc 0.4586\n",
            "\n",
            "1000 1.0235244\n",
            "Test acc 0.619\n",
            "\n",
            "1500 1.0534297\n",
            "Test acc 0.6828\n",
            "\n",
            "2000 1.0007812\n",
            "Test acc 0.709\n",
            "\n",
            "2500 0.89663965\n",
            "Test acc 0.7136\n",
            "\n",
            "3000 0.77339673\n",
            "Test acc 0.7323\n",
            "\n",
            "3500 0.8092934\n",
            "Test acc 0.7281\n",
            "\n",
            "4000 0.85296005\n",
            "Test acc 0.7359\n",
            "\n",
            "4500 0.7657181\n",
            "Test acc 0.7471\n",
            "\n",
            "5000 0.7940098\n",
            "Test acc 0.7561\n",
            "\n",
            "5500 0.7545935\n",
            "Test acc 0.7516\n",
            "\n",
            "6000 0.7326568\n",
            "Test acc 0.7565\n",
            "\n",
            "6500 0.8192864\n",
            "Test acc 0.7636\n",
            "\n",
            "7000 0.85310304\n",
            "Test acc 0.7591\n",
            "\n",
            "7500 0.78507483\n",
            "Test acc 0.762\n",
            "\n",
            "8000 0.6534521\n",
            "Test acc 0.7679\n",
            "\n",
            "8500 0.751246\n",
            "Test acc 0.7644\n",
            "\n",
            "9000 0.68544394\n",
            "Test acc 0.7652\n",
            "\n",
            "9500 0.72462213\n",
            "Test acc 0.7698\n",
            "\n",
            "10000 0.6769184\n",
            "Test acc 0.7709\n",
            "\n"
          ]
        }
      ]
    },
    {
      "cell_type": "code",
      "source": [
        "# basic adversarial example setup\n",
        "# compute gradient of loss with respect to inputs\n",
        "def run_model(images, labels):\n",
        "    with tf.GradientTape() as tape:\n",
        "        tape.watch(images)\n",
        "        out = model(images, training=False)\n",
        "        cross_entropy = loss_fn(labels, out)\n",
        "    gradients = tape.gradient(cross_entropy, images)\n",
        "    return gradients, cross_entropy, out"
      ],
      "metadata": {
        "id": "bowJ_YPnm5Bi"
      },
      "execution_count": null,
      "outputs": []
    },
    {
      "cell_type": "code",
      "source": [
        "gradient_images, loss, predictions = run_model(image_batch, label_batch)\n",
        "print(\"Loss on inputs:\", loss.numpy())\n",
        "print(\"Prediction on 1st input:\", np.argmax(predictions[0].numpy()))\n",
        "print(\"Correct label:\", label_batch[0].numpy())\n",
        "# for step, (image_batch, label_batch) in enumerate(test_data):\n",
        "#     if step > 0:\n",
        "#         break\n",
        "#     gradient_images, loss, predictions = run_model(image_batch, label_batch)\n",
        "#     print(\"Loss on inputs:\", loss.numpy())\n",
        "#     print(\"Prediction on 1st input:\", np.argmax(predictions[0].numpy()))\n",
        "#     print(\"Correct label:\", label_batch[0].numpy())\n",
        "#     adversarial_images1 = tf.clip_by_value(image_batch + 0.02*tf.math.sign(gradient_images), 0., 1.)\n",
        "\n",
        "# gradient sign method. you can fiddle with epsilon. the larger, the more dramatic the effect.\n",
        "# but if it's too large, it doesn't really qualify as an adversarial example anymore!\n",
        "# clip to between 0 and 1 since adding the gradient might take the images out of that range.\n",
        "adversarial_images = tf.clip_by_value(image_batch + 0.02*tf.math.sign(gradient_images), 0., 1.)"
      ],
      "metadata": {
        "id": "C4h_E0pYo63a",
        "colab": {
          "base_uri": "https://localhost:8080/"
        },
        "outputId": "d484a598-5605-4c0b-8a26-40935da9adf3"
      },
      "execution_count": null,
      "outputs": [
        {
          "output_type": "stream",
          "name": "stdout",
          "text": [
            "Loss on inputs: 0.6346601\n",
            "Prediction on 1st input: 3\n",
            "Correct label: 4\n"
          ]
        }
      ]
    },
    {
      "cell_type": "code",
      "source": [
        "_, loss, predictions = run_model(adversarial_images, label_batch)\n",
        "print(\"Loss on adversarial examples:\", loss.numpy())\n",
        "print(\"Prediction on 1st adversarial input:\", np.argmax(predictions[0].numpy()))\n",
        "print(\"Groundtruth:\", label_batch[0].numpy())"
      ],
      "metadata": {
        "id": "OO_ZCBtoqVWN",
        "colab": {
          "base_uri": "https://localhost:8080/"
        },
        "outputId": "800fcbf0-4d76-4631-d1ec-4880fe50240f"
      },
      "execution_count": null,
      "outputs": [
        {
          "output_type": "stream",
          "name": "stdout",
          "text": [
            "Loss on adversarial examples: 4.640956\n",
            "Prediction on 1st adversarial input: 3\n",
            "Groundtruth: 4\n"
          ]
        }
      ]
    },
    {
      "cell_type": "code",
      "source": [
        "plt.imshow(image_batch[0])"
      ],
      "metadata": {
        "id": "a5M-dUaFpHbW",
        "colab": {
          "base_uri": "https://localhost:8080/",
          "height": 284
        },
        "outputId": "26a0be34-83a1-444f-cc8f-db46030bd855"
      },
      "execution_count": null,
      "outputs": [
        {
          "output_type": "execute_result",
          "data": {
            "text/plain": [
              "<matplotlib.image.AxesImage at 0x7f51c6c2dd50>"
            ]
          },
          "metadata": {},
          "execution_count": 10
        },
        {
          "output_type": "display_data",
          "data": {
            "image/png": "[encoded data removed]",
            "text/plain": [
              "<Figure size 432x288 with 1 Axes>"
            ]
          },
          "metadata": {
            "needs_background": "light"
          }
        }
      ]
    },
    {
      "cell_type": "code",
      "source": [
        "plt.imshow(adversarial_images[0])"
      ],
      "metadata": {
        "id": "MbW3VP-IrrVo",
        "colab": {
          "base_uri": "https://localhost:8080/",
          "height": 284
        },
        "outputId": "461dda1b-75b1-449a-eecb-dae08197ceec"
      },
      "execution_count": null,
      "outputs": [
        {
          "output_type": "execute_result",
          "data": {
            "text/plain": [
              "<matplotlib.image.AxesImage at 0x7f523abb1ad0>"
            ]
          },
          "metadata": {},
          "execution_count": 11
        },
        {
          "output_type": "display_data",
          "data": {
            "image/png": "[encoded data removed]",
            "text/plain": [
              "<Figure size 432x288 with 1 Axes>"
            ]
          },
          "metadata": {
            "needs_background": "light"
          }
        }
      ]
    },
    {
      "cell_type": "markdown",
      "source": [
        "Creating adversarial dataset "
      ],
      "metadata": {
        "id": "EQFTq8e1pep2"
      }
    },
    {
      "cell_type": "code",
      "source": [
        "# basic adversarial example setup\n",
        "# compute gradient of loss with respect to inputs\n",
        "def create_adversarial(images, labels):\n",
        "    with tf.GradientTape() as tape:\n",
        "        tape.watch(images)\n",
        "        out = model(images, training=False)\n",
        "        cross_entropy = loss_fn(labels, out)\n",
        "    gradients = tape.gradient(cross_entropy, images)\n",
        "    return gradients, cross_entropy, out\n",
        "\n",
        "\n",
        "###########################################################################\n",
        "\n",
        "model = build_model()\n",
        "\n",
        "# example learning rate schedule\n",
        "schedule = tf.keras.optimizers.schedules.ExponentialDecay( 0.001, 1, 0.9997)   #(initial_learning_rate, decay_steps, decay_rate)\n",
        "optimizer = tf.optimizers.Adam(schedule)\n",
        "\n",
        "loss_fn = tf.losses.SparseCategoricalCrossentropy(from_logits=True)\n",
        "\n",
        "train_imgs_adv = tf.data.Dataset.from_tensor_slices((train_imgs, train_lbls)).shuffle(50000).batch(256)\n",
        "\n",
        "# gradient sign method. you can fiddle with epsilon. the larger, the more dramatic the effect.\n",
        "# but if it's too large, it doesn't really qualify as an adversarial example anymore!\n",
        "# clip to between 0 and 1 since adding the gradient might take the images out of that range.\n",
        "adversarial_images = 0\n",
        "adversarial_label = 0\n",
        "for step, (image_batch, label_batch) in enumerate(train_imgs_adv):\n",
        "    gradient_images, current_loss, predictions = create_adversarial(image_batch, label_batch)\n",
        "\n",
        "    if step==0:\n",
        "      adversarial_images = tf.clip_by_value(image_batch + 0.02*tf.math.sign(gradient_images), 0., 1.)\n",
        "      adversarial_label = label_batch\n",
        "    else:\n",
        "      adversarial_images = tf.concat([adversarial_images,tf.clip_by_value(image_batch + 0.02*tf.math.sign(gradient_images), 0., 1.)],axis=0)\n",
        "      adversarial_label = tf.concat([adversarial_label, label_batch],axis=0)\n",
        "\n",
        "    if not step % 50:\n",
        "        print(step, current_loss.numpy())\n",
        "        test_accuracy = get_test_accuracy()\n",
        "        print(\"Test acc\", test_accuracy)\n",
        "        print()\n",
        "    \n",
        "\n"
      ],
      "metadata": {
        "id": "4BFpBHYQr2AO",
        "colab": {
          "base_uri": "https://localhost:8080/"
        },
        "outputId": "1d21ebb8-a4d2-4883-b50d-ee3a98c8957a"
      },
      "execution_count": null,
      "outputs": [
        {
          "output_type": "stream",
          "name": "stdout",
          "text": [
            "0 2.3024607\n",
            "Test acc 0.0996\n",
            "\n",
            "50 2.3035033\n",
            "Test acc 0.0996\n",
            "\n",
            "100 2.3039215\n",
            "Test acc 0.0996\n",
            "\n",
            "150 2.3142605\n",
            "Test acc 0.0996\n",
            "\n"
          ]
        }
      ]
    },
    {
      "cell_type": "markdown",
      "source": [
        "Training with adversarial + original dataset"
      ],
      "metadata": {
        "id": "gRaGet-nBlua"
      }
    },
    {
      "cell_type": "code",
      "source": [
        "train_data2 = tf.data.Dataset.from_tensor_slices((tf.concat([adversarial_images[:25000],train_imgs[:25000]],axis=0),\n",
        "                                               tf.concat([adversarial_label[:25000],train_lbls[:25000]],axis=0))).shuffle(50000).batch(256).repeat()\n",
        "\n",
        "model = build_model()\n",
        "# example learning rate schedule\n",
        "schedule = tf.keras.optimizers.schedules.ExponentialDecay( 0.001, 1, 0.9997)   #(initial_learning_rate, decay_steps, decay_rate)\n",
        "optimizer = tf.optimizers.Adam(schedule)\n",
        "\n",
        "loss_fn = tf.losses.SparseCategoricalCrossentropy(from_logits=True)\n",
        "\n",
        "train_steps = 20000\n",
        "\n",
        "for step, (image_batch, label_batch) in enumerate(train_data2):\n",
        "    if step > train_steps:\n",
        "        break\n",
        "\n",
        "    current_loss = train_step(image_batch, label_batch)\n",
        "\n",
        "    if not step % 1500:\n",
        "        print(step, current_loss.numpy())\n",
        "        test_accuracy = get_test_accuracy()\n",
        "        print(\"Test acc\", test_accuracy)\n",
        "        print()\n"
      ],
      "metadata": {
        "colab": {
          "base_uri": "https://localhost:8080/"
        },
        "id": "IbqiUlbGwrM9",
        "outputId": "e4d42b92-9552-4551-fa75-7531fa6bbdfb"
      },
      "execution_count": null,
      "outputs": [
        {
          "output_type": "stream",
          "name": "stdout",
          "text": [
            "0 3.3696094\n",
            "Test acc 0.1076\n",
            "\n",
            "1500 0.9016641\n",
            "Test acc 0.6894\n",
            "\n",
            "3000 0.8223712\n",
            "Test acc 0.7285\n",
            "\n",
            "4500 0.7458877\n",
            "Test acc 0.7279\n",
            "\n",
            "6000 0.7339931\n",
            "Test acc 0.7448\n",
            "\n",
            "7500 0.62960505\n",
            "Test acc 0.755\n",
            "\n",
            "9000 0.7219118\n",
            "Test acc 0.7577\n",
            "\n",
            "10500 0.7108159\n",
            "Test acc 0.7638\n",
            "\n",
            "12000 0.64930284\n",
            "Test acc 0.7601\n",
            "\n",
            "13500 0.6289618\n",
            "Test acc 0.7603\n",
            "\n",
            "15000 0.61410075\n",
            "Test acc 0.7623\n",
            "\n",
            "16500 0.61399454\n",
            "Test acc 0.7627\n",
            "\n",
            "18000 0.6332916\n",
            "Test acc 0.7641\n",
            "\n",
            "19500 0.64858437\n",
            "Test acc 0.7623\n",
            "\n"
          ]
        }
      ]
    },
    {
      "cell_type": "markdown",
      "source": [
        "Test adversarial data on newly trained model"
      ],
      "metadata": {
        "id": "tSs-4JoWKn7S"
      }
    },
    {
      "cell_type": "code",
      "source": [
        "for step, (image_batch, label_batch) in enumerate(test_data):\n",
        "    if step > 0:\n",
        "        break\n",
        "    gradient_images, loss, predictions = run_model(image_batch, label_batch)\n",
        "    print(\"Loss on inputs:\", loss.numpy())\n",
        "    print(\"Prediction on 1st input:\", np.argmax(predictions[0].numpy()))\n",
        "    print(\"Correct label:\", label_batch[0].numpy())\n",
        "    adversarial_images_new = tf.clip_by_value(image_batch + 0.02*tf.math.sign(gradient_images), 0., 1.)"
      ],
      "metadata": {
        "colab": {
          "base_uri": "https://localhost:8080/"
        },
        "id": "1DgEhXq6KwP1",
        "outputId": "a7e068bc-3175-47b2-df36-08bba32fa356"
      },
      "execution_count": null,
      "outputs": [
        {
          "output_type": "stream",
          "name": "stdout",
          "text": [
            "Loss on inputs: 0.73822\n",
            "Prediction on 1st input: 3\n",
            "Correct label: 3\n"
          ]
        }
      ]
    },
    {
      "cell_type": "code",
      "source": [
        "_, loss, predictions = run_model(image_batch, label_batch)\n",
        "print(\"Loss on adversarial examples:\", loss.numpy())\n",
        "print(\"Prediction on 1st adversarial input:\", np.argmax(predictions[0].numpy()))\n",
        "print(\"Groundtruth:\", label_batch[0].numpy())\n",
        "print()\n",
        "print(\"Prediction on 1st adversarial input:\", np.argmax(predictions[1].numpy()))\n",
        "print(\"Groundtruth:\", label_batch[1].numpy())"
      ],
      "metadata": {
        "colab": {
          "base_uri": "https://localhost:8080/"
        },
        "id": "Bb1bMBnhLLKL",
        "outputId": "4c647cd7-c0ac-45c7-e8ff-360927dcd79f"
      },
      "execution_count": null,
      "outputs": [
        {
          "output_type": "stream",
          "name": "stdout",
          "text": [
            "Loss on adversarial examples: 0.6148692\n",
            "Prediction on 1st adversarial input: 3\n",
            "Groundtruth: 3\n",
            "\n",
            "Prediction on 1st adversarial input: 0\n",
            "Groundtruth: 0\n"
          ]
        }
      ]
    },
    {
      "cell_type": "markdown",
      "source": [
        ""
      ],
      "metadata": {
        "id": "nu1cQadEKvwY"
      }
    }
  ]
}